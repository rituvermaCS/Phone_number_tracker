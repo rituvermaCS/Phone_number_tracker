import pycountry
from phone_iso3166.country import phone_country
code = phone_country("255757295721")
code
'TZ'
pycountry.countries.get(alpha_2 = code)
Country(alpha_2='TZ', alpha_3='TZA', common_name='Tanzania', name='Tanzania, United Republic of', numeric='834', official_name='United Republic of Tanzania')
